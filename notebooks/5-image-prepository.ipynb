{
 "cells": [
  {
   "cell_type": "code",
   "execution_count": 2,
   "metadata": {},
   "outputs": [
    {
     "ename": "SyntaxError",
     "evalue": "invalid syntax (<ipython-input-2-4d18f1225575>, line 7)",
     "output_type": "error",
     "traceback": [
      "\u001b[1;36m  File \u001b[1;32m\"<ipython-input-2-4d18f1225575>\"\u001b[1;36m, line \u001b[1;32m7\u001b[0m\n\u001b[1;33m    features = np.array[np.hsplit(row, 100) for row in np.vsplit(digits, 50)]\u001b[0m\n\u001b[1;37m                                              ^\u001b[0m\n\u001b[1;31mSyntaxError\u001b[0m\u001b[1;31m:\u001b[0m invalid syntax\n"
     ]
    }
   ],
   "source": [
    "import cv2\n",
    "import numpy as np\n",
    "from sklearn.decomposition import PCA\n",
    "\n",
    "digits = cv2.imread('../datasets/digits.png', 0)\n",
    "\n",
    "features = np.array[np.hsplit(row, 100) for row in np.vsplit(digits, 50)]\n",
    "\n",
    "features.shape\n",
    "\n",
    "features = features.reshape(-1, (20*20))\n",
    "\n",
    "features.shape\n",
    "\n",
    "pca = PCA(n_component= features.shape[1])\n",
    "\n",
    "pca.fit(features)\n",
    "\n",
    "plt.plot(np.cumsum(pca.explained_variance_ratio_))\n",
    "plt.xlabel('Number of Components')\n",
    "plt.ylabel('Cumulative explained variance')\n",
    "plt.show()\n",
    "\n",
    "pca = PCA(components=100)\n",
    "\n",
    "train_features = features[:, :50].reshape(-1, (20*20))\n",
    "test_features = features[:, 50:100].reshape(-1, (20*20))\n",
    "\n",
    "pca.fit(train_features)\n",
    "\n",
    "train_features.shape\n",
    "\n",
    "train_features = pca.transform(train_features)\n",
    "test_features = pca.transform(test_features)"
   ]
  },
  {
   "cell_type": "code",
   "execution_count": null,
   "metadata": {},
   "outputs": [],
   "source": []
  }
 ],
 "metadata": {
  "kernelspec": {
   "display_name": "Python 3",
   "language": "python",
   "name": "python3"
  },
  "language_info": {
   "codemirror_mode": {
    "name": "ipython",
    "version": 3
   },
   "file_extension": ".py",
   "mimetype": "text/x-python",
   "name": "python",
   "nbconvert_exporter": "python",
   "pygments_lexer": "ipython3",
   "version": "3.6.5"
  }
 },
 "nbformat": 4,
 "nbformat_minor": 2
}
