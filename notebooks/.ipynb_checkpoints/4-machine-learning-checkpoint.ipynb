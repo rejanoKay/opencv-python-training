{
 "cells": [
  {
   "cell_type": "code",
   "execution_count": 1,
   "metadata": {},
   "outputs": [
    {
     "name": "stdout",
     "output_type": "stream",
     "text": [
      "(1000, 2000)\n"
     ]
    }
   ],
   "source": [
    "import cv2\n",
    "import numpy as np\n",
    "from sklearn.decomposition import PCA\n",
    "\n",
    "digits = cv2.imread('../datasets/digits.png', 0)\n",
    "\n",
    "print(digits.shape)"
   ]
  },
  {
   "cell_type": "code",
   "execution_count": 2,
   "metadata": {},
   "outputs": [
    {
     "name": "stdout",
     "output_type": "stream",
     "text": [
      "(50, 100, 20, 20)\n"
     ]
    }
   ],
   "source": [
    "images = [np.hsplit(row, 100) for row in np.vsplit(digits, 50)]\n",
    "images = np.array(images, dtype=np.float32)\n",
    "\n",
    "\n",
    "print(images.shape)"
   ]
  },
  {
   "cell_type": "code",
   "execution_count": 3,
   "metadata": {},
   "outputs": [
    {
     "name": "stdout",
     "output_type": "stream",
     "text": [
      "(2500, 400)\n"
     ]
    }
   ],
   "source": [
    "train_features = images[:, :50].reshape(-1, (20*20))\n",
    "print(train_features.shape)"
   ]
  },
  {
   "cell_type": "code",
   "execution_count": 4,
   "metadata": {},
   "outputs": [
    {
     "name": "stdout",
     "output_type": "stream",
     "text": [
      "(2500, 400)\n"
     ]
    }
   ],
   "source": [
    "test_features = images[:, 50:100].reshape(-1, (20*20))\n",
    "print(test_features.shape)"
   ]
  },
  {
   "cell_type": "code",
   "execution_count": 23,
   "metadata": {},
   "outputs": [
    {
     "name": "stdout",
     "output_type": "stream",
     "text": [
      "(2500, 400)\n"
     ]
    }
   ],
   "source": [
    "k = np.arange(10)\n",
    "train_labels = np.repeat(k, 250).reshape(-1, 1)\n",
    "test_labels = train_labels.copy()\n",
    "\n",
    "train_features -= np.mean(train_features, axis=0)\n",
    "test_features -= np.mean(train_features, axis=0)\n",
    "\n",
    "print(test_features.shape)"
   ]
  },
  {
   "cell_type": "code",
   "execution_count": 26,
   "metadata": {},
   "outputs": [
    {
     "name": "stdout",
     "output_type": "stream",
     "text": [
      "Accuracy: 79.24\n"
     ]
    }
   ],
   "source": [
    "knn = cv2.ml.KNearest_create()\n",
    "\n",
    "knn.train(train_features, cv2.ml.ROW_SAMPLE, train_labels)\n",
    "\n",
    "ret, result, neighbors, dist = knn.findNearest(test_features, 3)\n",
    "\n",
    "matches = np.equal(result, test_labels)\n",
    "\n",
    "matches = matches.astype(np.int)\n",
    "\n",
    "correct = np.count_nonzero(matches)\n",
    "\n",
    "accuracy = (correct * 100.00 / result.size)\n",
    "\n",
    "print('Accuracy: {}'.format(accuracy))"
   ]
  },
  {
   "cell_type": "code",
   "execution_count": 7,
   "metadata": {},
   "outputs": [
    {
     "data": {
      "text/plain": [
       "<Figure size 640x480 with 1 Axes>"
      ]
     },
     "metadata": {},
     "output_type": "display_data"
    },
    {
     "name": "stdout",
     "output_type": "stream",
     "text": [
      "(30, 30, 28, 28)\n"
     ]
    }
   ],
   "source": [
    "fashion = cv2.imread('../datasets/fashion.png', 0)\n",
    "\n",
    "fashion_images = [np.hsplit(row, 30) for row in np.vsplit(fashion, 30)]\n",
    "fashion_images = np.array(fashion_images, dtype=np.float32)\n",
    "\n",
    "\n",
    "import matplotlib.pyplot as plt\n",
    "plt.imshow(fashion_images[1,1], cmap = 'gray')\n",
    "plt.show()  \n",
    " \n",
    "\n",
    "print(fashion_images.shape)"
   ]
  },
  {
   "cell_type": "code",
   "execution_count": 8,
   "metadata": {},
   "outputs": [
    {
     "name": "stdout",
     "output_type": "stream",
     "text": [
      "(450, 784)\n"
     ]
    }
   ],
   "source": [
    "train_fashion_features = fashion_images[:, :15].reshape(-1, (28*28))\n",
    "print(train_fashion_features.shape)"
   ]
  },
  {
   "cell_type": "code",
   "execution_count": 9,
   "metadata": {},
   "outputs": [
    {
     "name": "stdout",
     "output_type": "stream",
     "text": [
      "(450, 784)\n"
     ]
    }
   ],
   "source": [
    "test_fashion_features = fashion_images[:, 15:30].reshape(-1, (28*28))\n",
    "print(test_fashion_features.shape)"
   ]
  },
  {
   "cell_type": "code",
   "execution_count": 24,
   "metadata": {},
   "outputs": [
    {
     "name": "stdout",
     "output_type": "stream",
     "text": [
      "(450, 1)\n"
     ]
    }
   ],
   "source": [
    "k_fashion = np.arange(10)\n",
    "train_fashion_labels = np.repeat(k_fashion, 45).reshape(-1, 1)\n",
    "test_fashion_labels = train_fashion_labels.copy()\n",
    "\n",
    "train_fashion_features -= np.mean(train_fashion_features, axis=0)\n",
    "test_fashion_features -= np.mean(train_fashion_features, axis=0)\n",
    "\n",
    "print(test_fashion_labels.shape)"
   ]
  },
  {
   "cell_type": "code",
   "execution_count": 25,
   "metadata": {},
   "outputs": [
    {
     "name": "stdout",
     "output_type": "stream",
     "text": [
      "Accuracy: 52.0\n"
     ]
    }
   ],
   "source": [
    "knn_fashion = cv2.ml.KNearest_create()\n",
    "\n",
    "knn_fashion.train(train_fashion_features, cv2.ml.ROW_SAMPLE, train_fashion_labels)\n",
    "\n",
    "ret, result, neighbors, dist = knn_fashion.findNearest(test_fashion_features, 3)\n",
    "\n",
    "matches = np.equal(result, test_fashion_labels)\n",
    "\n",
    "matches = matches.astype(np.int)\n",
    "\n",
    "correct = np.count_nonzero(matches)\n",
    "\n",
    "accuracy = (correct * 100.00 / result.size)\n",
    "\n",
    "print('Accuracy: {}'.format(accuracy))"
   ]
  },
  {
   "cell_type": "code",
   "execution_count": 28,
   "metadata": {},
   "outputs": [
    {
     "name": "stdout",
     "output_type": "stream",
     "text": [
      "Accuracy: 66.8\n"
     ]
    }
   ],
   "source": [
    "digits = cv2.imread('../datasets/digits.png', 0)\n",
    "\n",
    "images = [np.hsplit(row, 100) for row in np.vsplit(digits, 50)]\n",
    "images = np.array(images, dtype=np.float32)\n",
    "\n",
    "train_features -= np.mean(train_features, axis=0)\n",
    "test_features -= np.mean(train_features, axis=0)\n",
    "\n",
    "model = cv2.ml.SVM_create()\n",
    "\n",
    "model.setKernel(cv2.ml.SVM_LINEAR)\n",
    "model.setC(2.67)\n",
    "model.setGamma(5.383)\n",
    "model.setType(cv2.ml.SVM_C_SVC)\n",
    "\n",
    "model.train(train_features, cv2.ml.ROW_SAMPLE, train_labels)\n",
    "\n",
    "result = model.predict(test_features)\n",
    "\n",
    "matches = np.equal(result[1], test_labels)\n",
    "matches = matches.astype(np.int)\n",
    "\n",
    "correct = np.count_nonzero(matches)\n",
    "accuracy = ((correct * 100.00) / result[1].size)\n",
    "\n",
    "print('Accuracy: {}'.format(accuracy))"
   ]
  },
  {
   "cell_type": "code",
   "execution_count": 29,
   "metadata": {},
   "outputs": [
    {
     "name": "stdout",
     "output_type": "stream",
     "text": [
      "Accuracy: 56.44444444444444\n"
     ]
    }
   ],
   "source": [
    "fashion = cv2.imread('../datasets/fashion.png', 0)\n",
    "\n",
    "fashion_images = [np.hsplit(row, 30) for row in np.vsplit(fashion, 30)]\n",
    "Fashion_images = np.array(fashion_images, dtype=np.float32)\n",
    "\n",
    "train_fashion_features -= np.mean(train_fashion_features, axis=0)\n",
    "test_fashion_features -= np.mean(train_fashion_features, axis=0)\n",
    "\n",
    "model = cv2.ml.SVM_create()\n",
    "\n",
    "model.setKernel(cv2.ml.SVM_LINEAR)\n",
    "model.setC(2.67)\n",
    "model.setGamma(5.83)\n",
    "model.setType(cv2.ml.SVM_C_SVC)\n",
    "\n",
    "model.train(train_fashion_features, cv2.ml.ROW_SAMPLE, train_fashion_labels)\n",
    "\n",
    "result = model.predict(test_fashion_features)\n",
    "\n",
    "matches = np.equal(result[1], test_fashion_labels)\n",
    "matches = matches.astype(np.int)\n",
    "\n",
    "correct = np.count_nonzero(matches)\n",
    "accuracy = ((correct * 100.00) / result[1].size)\n",
    "\n",
    "print('Accuracy: {}'.format(accuracy))"
   ]
  },
  {
   "cell_type": "code",
   "execution_count": 32,
   "metadata": {},
   "outputs": [
    {
     "ename": "SyntaxError",
     "evalue": "invalid syntax (<ipython-input-32-bc2d66ecf2e6>, line 5)",
     "output_type": "error",
     "traceback": [
      "\u001b[1;36m  File \u001b[1;32m\"<ipython-input-32-bc2d66ecf2e6>\"\u001b[1;36m, line \u001b[1;32m5\u001b[0m\n\u001b[1;33m    features = np.array[np.hsplit(row, 100) for row in np.vsplit(digits, 50)]\u001b[0m\n\u001b[1;37m                                              ^\u001b[0m\n\u001b[1;31mSyntaxError\u001b[0m\u001b[1;31m:\u001b[0m invalid syntax\n"
     ]
    }
   ],
   "source": []
  },
  {
   "cell_type": "code",
   "execution_count": null,
   "metadata": {},
   "outputs": [],
   "source": []
  },
  {
   "cell_type": "code",
   "execution_count": null,
   "metadata": {},
   "outputs": [],
   "source": []
  }
 ],
 "metadata": {
  "kernelspec": {
   "display_name": "Python 3",
   "language": "python",
   "name": "python3"
  },
  "language_info": {
   "codemirror_mode": {
    "name": "ipython",
    "version": 3
   },
   "file_extension": ".py",
   "mimetype": "text/x-python",
   "name": "python",
   "nbconvert_exporter": "python",
   "pygments_lexer": "ipython3",
   "version": "3.6.5"
  }
 },
 "nbformat": 4,
 "nbformat_minor": 2
}
